{
 "cells": [
  {
   "cell_type": "code",
   "execution_count": null,
   "id": "991dfb97",
   "metadata": {},
   "outputs": [],
   "source": [
    "import requests\n",
    "from urllib.parse import urlencode"
   ]
  },
  {
   "cell_type": "code",
   "execution_count": null,
   "id": "0f34472b",
   "metadata": {},
   "outputs": [],
   "source": [
    "Google_api_key='enter api key '"
   ]
  },
  {
   "cell_type": "markdown",
   "id": "c8641907",
   "metadata": {},
   "source": [
    "## Google maps client API"
   ]
  },
  {
   "cell_type": "code",
   "execution_count": null,
   "id": "7f6975c5",
   "metadata": {},
   "outputs": [],
   "source": [
    "\n",
    "\n",
    "class GoogleMapsClient(object):\n",
    "    lat = None\n",
    "    lng = None\n",
    "    data_type = \"json\"\n",
    "    location_query = None\n",
    "    api_key = None\n",
    "    \n",
    "    def __init__(self, api_key=None, address_or_postal_code=None, *args, **kwargs):\n",
    "        super().__init__(*args, **kwargs)\n",
    "        if api_key == None:\n",
    "            raise Exception(\"API key required\")\n",
    "        self.api_key = api_key    \n",
    "        self.location_query = address_or_postal_code\n",
    "        if self.location_query != None:\n",
    "            self.extract_lat_lng() \n",
    "    \n",
    "    def extract_lat_lng(self, location =None):\n",
    "        loc_query = self.location_query\n",
    "        if location != None:\n",
    "            loc_query = location\n",
    "        endpoint = f\"https://maps.googleapis.com/maps/api/geocode/{self.data_type}\"\n",
    "        params ={\"address\" : loc_query, \"key\": self.api_key}\n",
    "        url_params = urlencode(params)\n",
    "        url = f\"{endpoint}?{url_params}\"\n",
    "        r = requests.get(url)\n",
    "        if r.status_code not in range(200,299):\n",
    "            return {}\n",
    "        latlng = {}\n",
    "        try :\n",
    "            latlng = r.json()['results'][0]['geometry']['location']\n",
    "            #return r.json()['results'][0]['geometry']['location']\n",
    "        except:\n",
    "            pass#passing coz in somecases successful lookup but wont find data\n",
    "        lat, lng = latlng.get('lat'), latlng.get('lng')\n",
    "        self.lat = lat\n",
    "        self.lng = lng\n",
    "        return lat, lng\n",
    "\n",
    "\n",
    "    def nbsearch(self, keyword= \"keyword\",radius= 5000, location = None):\n",
    "        lat, lng = self.lat, self.lng\n",
    "        if location != None:\n",
    "            lat, lng = self.extract_lat_lng(location)\n",
    "        endpoint = f\"https://maps.googleapis.com/maps/api/place/nearbysearch/{self.data_type}\"\n",
    "        params = {\n",
    "            \"key\": self.api_key,\n",
    "            \"location\":f\"{lat},{lng}\",\n",
    "            \"radius\": radius,\n",
    "            \"keyword\" : keyword\n",
    "\n",
    "        }\n",
    "        params_encoded = urlencode(params)\n",
    "        places_url= f\"{endpoint}?{params_encoded}\"\n",
    "        r = requests.get(places_url)\n",
    "        if r.status_code not in range(200,299):\n",
    "            return {}\n",
    "        return r.json()\n",
    "    \n",
    "    \n",
    "    def detail(self, placeid):\n",
    "        place_id= placeid\n",
    "        url = f\"https://maps.googleapis.com/maps/api/place/details/json?place_id={place_id}&fields=name%2Crating%2Cformatted_phone_number&key={self.api_key}\"\n",
    "\n",
    "        payload={}\n",
    "        headers = {}\n",
    "\n",
    "        r = requests.request(\"GET\", url, headers=headers, data=payload)\n",
    "        if r.status_code not in range(200,299):\n",
    "            return {}\n",
    "        return r.json()\n",
    "    "
   ]
  },
  {
   "cell_type": "code",
   "execution_count": null,
   "id": "57a0f85b",
   "metadata": {},
   "outputs": [],
   "source": [
    "client = GoogleMapsClient(api_key= Google_api_key,  address_or_postal_code= \"location\")\n",
    "print(client.lat, client.lng)"
   ]
  },
  {
   "cell_type": "markdown",
   "id": "473c26e0",
   "metadata": {},
   "source": [
    "\n",
    "##Place API"
   ]
  },
  {
   "cell_type": "code",
   "execution_count": null,
   "id": "de9ffae3",
   "metadata": {},
   "outputs": [],
   "source": [
    "client.nbsearch(\"search feed\")"
   ]
  },
  {
   "cell_type": "code",
   "execution_count": null,
   "id": "c5fb517b",
   "metadata": {
    "scrolled": false
   },
   "outputs": [],
   "source": [
    "client.detail(\"placeid\")#place_id"
   ]
  },
  {
   "cell_type": "code",
   "execution_count": null,
   "id": "eb536ff4",
   "metadata": {},
   "outputs": [],
   "source": []
  }
 ],
 "metadata": {
  "kernelspec": {
   "display_name": "Python 3 (ipykernel)",
   "language": "python",
   "name": "python3"
  },
  "language_info": {
   "codemirror_mode": {
    "name": "ipython",
    "version": 3
   },
   "file_extension": ".py",
   "mimetype": "text/x-python",
   "name": "python",
   "nbconvert_exporter": "python",
   "pygments_lexer": "ipython3",
   "version": "3.10.4"
  }
 },
 "nbformat": 4,
 "nbformat_minor": 5
}
